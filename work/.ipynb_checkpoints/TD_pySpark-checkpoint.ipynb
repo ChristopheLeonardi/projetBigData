{
 "cells": [
  {
   "cell_type": "markdown",
   "metadata": {},
   "source": [
    "# Etude de cas : analyse des fichiers de logs des cyclistes\n",
    "\n",
    "Objectif: A partir des fichiers contenu dans le dossier ./data/Cyclistes, calculer la durée de chacun des trajets effectués par chaque cycliste."
   ]
  },
  {
   "cell_type": "code",
   "execution_count": 1,
   "metadata": {},
   "outputs": [],
   "source": [
    "from pyspark.sql import SparkSession\n",
    "from pyspark.sql.types import *\n",
    "from pyspark.sql import functions as F\n",
    "from pyspark.sql.types import *\n",
    "from pyspark.sql.functions import udf\n",
    "from pyspark.sql.window import Window\n",
    "from pyspark.sql.functions import *"
   ]
  },
  {
   "cell_type": "markdown",
   "metadata": {},
   "source": [
    "## 1)  Charger la donnée\n",
    "Créez une seesion Spark et chargez les données Cyclistes."
   ]
  },
  {
   "cell_type": "code",
   "execution_count": 2,
   "metadata": {},
   "outputs": [],
   "source": [
    "from pyspark.sql import SparkSession\n",
    "spark = SparkSession.builder.getOrCreate()"
   ]
  },
  {
   "cell_type": "code",
   "execution_count": 3,
   "metadata": {},
   "outputs": [],
   "source": [
    "path = \"./data/Cyclistes\"\n",
    "df = spark.read.format('csv').options(header=True).load(path)"
   ]
  },
  {
   "cell_type": "markdown",
   "metadata": {},
   "source": [
    "## 2) Vérifier le nombre de cyclistes\n",
    "\n",
    "Comptez le nombre d'id uniques."
   ]
  },
  {
   "cell_type": "code",
   "execution_count": null,
   "metadata": {},
   "outputs": [],
   "source": [
    "df.select(\"id\").distinct().count()"
   ]
  },
  {
   "cell_type": "code",
   "execution_count": null,
   "metadata": {},
   "outputs": [],
   "source": [
    "df.show(5)"
   ]
  },
  {
   "cell_type": "markdown",
   "metadata": {},
   "source": [
    "## 3) Transformer la colonne timestamp\n",
    "\n",
    "Lorsqu'on vérifie le type de donnée de la colonne timestamp, on voit qu'on a une chaîne de caractères. Pour calculer une durée on voudrait transformer en date exploitable en tant que telle.\n",
    "A l'aide d'une fonction udf, créez une nouvelle colonne date qui contiendra le résultat de la transformation des chaînes de caractères de la colonne timestamp en véritables timestamps."
   ]
  },
  {
   "cell_type": "code",
   "execution_count": null,
   "metadata": {},
   "outputs": [],
   "source": [
    "df.dtypes"
   ]
  },
  {
   "cell_type": "code",
   "execution_count": null,
   "metadata": {},
   "outputs": [],
   "source": [
    "df = df.withColumn('timestamp', to_timestamp('timestamp'))\n",
    "df.dtypes"
   ]
  },
  {
   "cell_type": "markdown",
   "metadata": {},
   "source": [
    "## 4) Durée des trajets par id.\n",
    "\n",
    "1) Trouvez les dates min/max par état de sur_velo, puis par id ET par état de sur_velo."
   ]
  },
  {
   "cell_type": "code",
   "execution_count": null,
   "metadata": {},
   "outputs": [],
   "source": [
    "df.groupby(\"sur_velo\").agg(max(\"timestamp\"), min(\"timestamp\")).show()"
   ]
  },
  {
   "cell_type": "code",
   "execution_count": null,
   "metadata": {},
   "outputs": [],
   "source": [
    "df.groupby(\"sur_velo\", \"id\").agg(max(\"timestamp\"), min(\"timestamp\")).show()"
   ]
  },
  {
   "cell_type": "code",
   "execution_count": 91,
   "metadata": {},
   "outputs": [
    {
     "data": {
      "text/plain": [
       "2232000"
      ]
     },
     "execution_count": 91,
     "metadata": {},
     "output_type": "execute_result"
    }
   ],
   "source": [
    "df.count()"
   ]
  },
  {
   "cell_type": "markdown",
   "metadata": {},
   "source": [
    "2) Le résultat n'est pas trés pertinent, il faudrait plutôt le début et la fin de chaque trajet par id. Pour cela, il faudrait détecter les changements d'état \"sur_vélo\".\n",
    "\n",
    "Créez une fonction python (voir fonction udf) qui permet de detecter ces changements d'état.\n",
    "Utilisez la classe Window() et la fonction F.lag() avec votre fonction udf pour créer une nouvelle colonne que vous appellerez changement, contenant un 0 si l'état précedent de sur_velo est le même et un 1 si l'état vient de changer pour chaque id."
   ]
  },
  {
   "cell_type": "code",
   "execution_count": 11,
   "metadata": {},
   "outputs": [],
   "source": [
    "w = Window.partitionBy(\"id\").orderBy(\"timestamp\")"
   ]
  },
  {
   "cell_type": "code",
   "execution_count": 12,
   "metadata": {},
   "outputs": [],
   "source": [
    "@udf(returnType = IntegerType())\n",
    "def change(prev, current):\n",
    "    if prev == None:\n",
    "        return 0\n",
    "    if prev == current:\n",
    "        return 0\n",
    "    else:\n",
    "        return 1"
   ]
  },
  {
   "cell_type": "code",
   "execution_count": 126,
   "metadata": {},
   "outputs": [
    {
     "name": "stdout",
     "output_type": "stream",
     "text": [
      "+---+-------------------+--------+----------+\n",
      "| id|          timestamp|sur_velo|changement|\n",
      "+---+-------------------+--------+----------+\n",
      "| 11|2018-01-01 07:48:00|    True|         1|\n",
      "| 11|2018-01-01 07:49:00|    True|         0|\n",
      "| 11|2018-01-01 07:50:00|    True|         0|\n",
      "| 11|2018-01-01 07:51:00|    True|         0|\n",
      "| 11|2018-01-01 07:52:00|    True|         0|\n",
      "+---+-------------------+--------+----------+\n",
      "only showing top 5 rows\n",
      "\n"
     ]
    }
   ],
   "source": [
    "df_change = df.withColumn(\"changement\", change(F.lag(\"sur_velo\", 1).over(w), F.lag(\"sur_velo\", 0).over(w)))\n",
    "df_change.select(\"id\", \"timestamp\", \"sur_velo\", \"changement\").filter(df_change[\"sur_velo\"] == True).show(5)"
   ]
  },
  {
   "cell_type": "markdown",
   "metadata": {},
   "source": [
    "3) Grâce à cette nouvelle colonne changement, trouvez un moyen qui permettra de numeroter les trajets pour chaque id et stockez les résulats dans une nouvelle colonne appelée numero_de_trajet."
   ]
  },
  {
   "cell_type": "code",
   "execution_count": 145,
   "metadata": {},
   "outputs": [],
   "source": [
    "windowval = Window.partitionBy('id').orderBy('timestamp').rangeBetween(Window.unboundedPreceding, 0)\n",
    "df_id_trajet = df_change.withColumn('trajet_id', F.sum('changement').over(windowval))\n",
    "\n"
   ]
  },
  {
   "cell_type": "markdown",
   "metadata": {},
   "source": [
    "4) Il suffit maintenant de repêter la première étape, c'est a dire récupérer la début et la fin de chaque trajet pour chaque id, puis calculer la durée des trajets. \n",
    "\n",
    "(Pensez à récuperer les \"vrai trajet au préalable (avec un état sur_vélo = 1)."
   ]
  },
  {
   "cell_type": "code",
   "execution_count": 147,
   "metadata": {},
   "outputs": [],
   "source": [
    "df_vrai = df_id_trajet.filter(df_id_trajet.sur_velo == True)\n",
    "df_vrai = df_vrai.groupby(\"id\", \"trajet_id\" ).agg(max(\"timestamp\"), min(\"timestamp\"))"
   ]
  },
  {
   "cell_type": "code",
   "execution_count": 150,
   "metadata": {},
   "outputs": [
    {
     "name": "stdout",
     "output_type": "stream",
     "text": [
      "+---+---------+-------------------+-------------------+\n",
      "| id|trajet_id|     max(timestamp)|     min(timestamp)|\n",
      "+---+---------+-------------------+-------------------+\n",
      "| 11|        1|2018-01-01 07:52:00|2018-01-01 07:48:00|\n",
      "| 11|        3|2018-01-01 14:05:00|2018-01-01 14:01:00|\n",
      "| 11|        5|2018-01-02 08:06:00|2018-01-02 08:00:00|\n",
      "| 11|        7|2018-01-02 14:05:00|2018-01-02 14:01:00|\n",
      "| 11|        9|2018-01-03 07:52:00|2018-01-03 07:48:00|\n",
      "| 11|       11|2018-01-03 14:05:00|2018-01-03 14:01:00|\n",
      "| 11|       13|2018-01-04 07:52:00|2018-01-04 07:48:00|\n",
      "| 11|       15|2018-01-04 14:05:00|2018-01-04 14:01:00|\n",
      "| 11|       17|2018-01-05 07:52:00|2018-01-05 07:48:00|\n",
      "| 11|       19|2018-01-05 14:05:00|2018-01-05 14:01:00|\n",
      "+---+---------+-------------------+-------------------+\n",
      "only showing top 10 rows\n",
      "\n"
     ]
    }
   ],
   "source": [
    "df_vrai.show(10)"
   ]
  },
  {
   "cell_type": "code",
   "execution_count": 158,
   "metadata": {},
   "outputs": [],
   "source": []
  },
  {
   "cell_type": "code",
   "execution_count": 175,
   "metadata": {},
   "outputs": [
    {
     "data": {
      "text/plain": [
       "[('id', 'string'),\n",
       " ('trajet_id', 'bigint'),\n",
       " ('max(timestamp)', 'timestamp'),\n",
       " ('min(timestamp)', 'timestamp'),\n",
       " ('duree', 'bigint')]"
      ]
     },
     "execution_count": 175,
     "metadata": {},
     "output_type": "execute_result"
    }
   ],
   "source": [
    "df_vrai = df_vrai.withColumn('max(timestamp)', to_timestamp('max(timestamp)'))\n",
    "df_vrai = df_vrai.withColumn('min(timestamp)', to_timestamp('min(timestamp)'))\n",
    "df_duree = df_vrai.withColumn(\"duree\", unix_timestamp(df_vrai['max(timestamp)']) - unix_timestamp(df_vrai['min(timestamp)']))\n",
    "df_duree.dtypes"
   ]
  },
  {
   "cell_type": "code",
   "execution_count": 176,
   "metadata": {},
   "outputs": [
    {
     "name": "stdout",
     "output_type": "stream",
     "text": [
      "+---+---------+-------------------+-------------------+-----+\n",
      "| id|trajet_id|     max(timestamp)|     min(timestamp)|duree|\n",
      "+---+---------+-------------------+-------------------+-----+\n",
      "| 11|        1|2018-01-01 07:52:00|2018-01-01 07:48:00|  240|\n",
      "| 11|        3|2018-01-01 14:05:00|2018-01-01 14:01:00|  240|\n",
      "| 11|        5|2018-01-02 08:06:00|2018-01-02 08:00:00|  360|\n",
      "| 11|        7|2018-01-02 14:05:00|2018-01-02 14:01:00|  240|\n",
      "| 11|        9|2018-01-03 07:52:00|2018-01-03 07:48:00|  240|\n",
      "| 11|       11|2018-01-03 14:05:00|2018-01-03 14:01:00|  240|\n",
      "| 11|       13|2018-01-04 07:52:00|2018-01-04 07:48:00|  240|\n",
      "| 11|       15|2018-01-04 14:05:00|2018-01-04 14:01:00|  240|\n",
      "| 11|       17|2018-01-05 07:52:00|2018-01-05 07:48:00|  240|\n",
      "| 11|       19|2018-01-05 14:05:00|2018-01-05 14:01:00|  240|\n",
      "+---+---------+-------------------+-------------------+-----+\n",
      "only showing top 10 rows\n",
      "\n"
     ]
    }
   ],
   "source": [
    "df_duree.show(10)"
   ]
  },
  {
   "cell_type": "markdown",
   "metadata": {},
   "source": [
    "## 5) Data visualisation\n",
    "\n",
    "Convertissez votre dataframe pyspark en dataframe pandas."
   ]
  },
  {
   "cell_type": "code",
   "execution_count": 219,
   "metadata": {},
   "outputs": [
    {
     "name": "stderr",
     "output_type": "stream",
     "text": [
      "/usr/local/spark/python/pyspark/sql/pandas/conversion.py:248: FutureWarning: Passing unit-less datetime64 dtype to .astype is deprecated and will raise in a future version. Pass 'datetime64[ns]' instead\n",
      "  series = series.astype(t, copy=False)\n",
      "/usr/local/spark/python/pyspark/sql/pandas/conversion.py:248: FutureWarning: Passing unit-less datetime64 dtype to .astype is deprecated and will raise in a future version. Pass 'datetime64[ns]' instead\n",
      "  series = series.astype(t, copy=False)\n"
     ]
    },
    {
     "data": {
      "text/html": [
       "<div>\n",
       "<style scoped>\n",
       "    .dataframe tbody tr th:only-of-type {\n",
       "        vertical-align: middle;\n",
       "    }\n",
       "\n",
       "    .dataframe tbody tr th {\n",
       "        vertical-align: top;\n",
       "    }\n",
       "\n",
       "    .dataframe thead th {\n",
       "        text-align: right;\n",
       "    }\n",
       "</style>\n",
       "<table border=\"1\" class=\"dataframe\">\n",
       "  <thead>\n",
       "    <tr style=\"text-align: right;\">\n",
       "      <th></th>\n",
       "      <th>id</th>\n",
       "      <th>trajet_id</th>\n",
       "      <th>max(timestamp)</th>\n",
       "      <th>min(timestamp)</th>\n",
       "      <th>duree</th>\n",
       "    </tr>\n",
       "  </thead>\n",
       "  <tbody>\n",
       "    <tr>\n",
       "      <th>0</th>\n",
       "      <td>11</td>\n",
       "      <td>1</td>\n",
       "      <td>2018-01-01 07:52:00</td>\n",
       "      <td>2018-01-01 07:48:00</td>\n",
       "      <td>240</td>\n",
       "    </tr>\n",
       "    <tr>\n",
       "      <th>1</th>\n",
       "      <td>11</td>\n",
       "      <td>3</td>\n",
       "      <td>2018-01-01 14:05:00</td>\n",
       "      <td>2018-01-01 14:01:00</td>\n",
       "      <td>240</td>\n",
       "    </tr>\n",
       "    <tr>\n",
       "      <th>2</th>\n",
       "      <td>11</td>\n",
       "      <td>5</td>\n",
       "      <td>2018-01-02 08:06:00</td>\n",
       "      <td>2018-01-02 08:00:00</td>\n",
       "      <td>360</td>\n",
       "    </tr>\n",
       "    <tr>\n",
       "      <th>3</th>\n",
       "      <td>11</td>\n",
       "      <td>7</td>\n",
       "      <td>2018-01-02 14:05:00</td>\n",
       "      <td>2018-01-02 14:01:00</td>\n",
       "      <td>240</td>\n",
       "    </tr>\n",
       "    <tr>\n",
       "      <th>4</th>\n",
       "      <td>11</td>\n",
       "      <td>9</td>\n",
       "      <td>2018-01-03 07:52:00</td>\n",
       "      <td>2018-01-03 07:48:00</td>\n",
       "      <td>240</td>\n",
       "    </tr>\n",
       "    <tr>\n",
       "      <th>...</th>\n",
       "      <td>...</td>\n",
       "      <td>...</td>\n",
       "      <td>...</td>\n",
       "      <td>...</td>\n",
       "      <td>...</td>\n",
       "    </tr>\n",
       "    <tr>\n",
       "      <th>1759</th>\n",
       "      <td>50</td>\n",
       "      <td>63</td>\n",
       "      <td>2018-01-28 17:47:00</td>\n",
       "      <td>2018-01-28 17:44:00</td>\n",
       "      <td>180</td>\n",
       "    </tr>\n",
       "    <tr>\n",
       "      <th>1760</th>\n",
       "      <td>50</td>\n",
       "      <td>65</td>\n",
       "      <td>2018-01-29 10:15:00</td>\n",
       "      <td>2018-01-29 10:12:00</td>\n",
       "      <td>180</td>\n",
       "    </tr>\n",
       "    <tr>\n",
       "      <th>1761</th>\n",
       "      <td>50</td>\n",
       "      <td>67</td>\n",
       "      <td>2018-01-29 17:51:00</td>\n",
       "      <td>2018-01-29 17:44:00</td>\n",
       "      <td>420</td>\n",
       "    </tr>\n",
       "    <tr>\n",
       "      <th>1762</th>\n",
       "      <td>50</td>\n",
       "      <td>69</td>\n",
       "      <td>2018-01-31 10:15:00</td>\n",
       "      <td>2018-01-31 10:12:00</td>\n",
       "      <td>180</td>\n",
       "    </tr>\n",
       "    <tr>\n",
       "      <th>1763</th>\n",
       "      <td>50</td>\n",
       "      <td>71</td>\n",
       "      <td>2018-01-31 17:47:00</td>\n",
       "      <td>2018-01-31 17:44:00</td>\n",
       "      <td>180</td>\n",
       "    </tr>\n",
       "  </tbody>\n",
       "</table>\n",
       "<p>1764 rows × 5 columns</p>\n",
       "</div>"
      ],
      "text/plain": [
       "      id  trajet_id      max(timestamp)      min(timestamp)  duree\n",
       "0     11          1 2018-01-01 07:52:00 2018-01-01 07:48:00    240\n",
       "1     11          3 2018-01-01 14:05:00 2018-01-01 14:01:00    240\n",
       "2     11          5 2018-01-02 08:06:00 2018-01-02 08:00:00    360\n",
       "3     11          7 2018-01-02 14:05:00 2018-01-02 14:01:00    240\n",
       "4     11          9 2018-01-03 07:52:00 2018-01-03 07:48:00    240\n",
       "...   ..        ...                 ...                 ...    ...\n",
       "1759  50         63 2018-01-28 17:47:00 2018-01-28 17:44:00    180\n",
       "1760  50         65 2018-01-29 10:15:00 2018-01-29 10:12:00    180\n",
       "1761  50         67 2018-01-29 17:51:00 2018-01-29 17:44:00    420\n",
       "1762  50         69 2018-01-31 10:15:00 2018-01-31 10:12:00    180\n",
       "1763  50         71 2018-01-31 17:47:00 2018-01-31 17:44:00    180\n",
       "\n",
       "[1764 rows x 5 columns]"
      ]
     },
     "execution_count": 219,
     "metadata": {},
     "output_type": "execute_result"
    }
   ],
   "source": [
    "df_cyclistes = df_duree.toPandas()\n",
    "df_cyclistes"
   ]
  },
  {
   "cell_type": "markdown",
   "metadata": {},
   "source": [
    "1) A l'aide des librairies matplotlib et/ou seaborn, réalisez un graphique en barre montrant le temps total passé à vélo par chaque cycliste."
   ]
  },
  {
   "cell_type": "code",
   "execution_count": 198,
   "metadata": {},
   "outputs": [],
   "source": [
    "import seaborn as sns\n",
    "import matplotlib.pyplot as plt\n",
    "%matplotlib inline"
   ]
  },
  {
   "cell_type": "code",
   "execution_count": 206,
   "metadata": {},
   "outputs": [
    {
     "name": "stderr",
     "output_type": "stream",
     "text": [
      "/tmp/ipykernel_59/2501507587.py:1: FutureWarning: The default value of numeric_only in DataFrameGroupBy.sum is deprecated. In a future version, numeric_only will default to False. Either specify numeric_only or select only columns which should be valid for the function.\n",
      "  df_temps_total = df_cyclistes.groupby(\"id\").sum()\n"
     ]
    }
   ],
   "source": [
    "df_temps_total = df_cyclistes.groupby(\"id\").sum()\n",
    "df_temps_total = df_temps_total.drop(\"trajet_id\", axis=1).reset_index()"
   ]
  },
  {
   "cell_type": "code",
   "execution_count": 207,
   "metadata": {},
   "outputs": [
    {
     "data": {
      "text/plain": [
       "<AxesSubplot: xlabel='id', ylabel='duree'>"
      ]
     },
     "execution_count": 207,
     "metadata": {},
     "output_type": "execute_result"
    },
    {
     "data": {
      "image/png": "[encoded data removed]",
      "text/plain": [
       "<Figure size 1200x500 with 1 Axes>"
      ]
     },
     "metadata": {},
     "output_type": "display_data"
    }
   ],
   "source": [
    "# setting the dimensions of the plot\n",
    "fig, ax = plt.subplots(figsize=(12, 5))\n",
    "sns.barplot(data=df_temps_total, x=\"id\", y=\"duree\")"
   ]
  },
  {
   "cell_type": "markdown",
   "metadata": {},
   "source": [
    "2) Réalisez un graphique en barre qui affiche le temps de chaque trajet d'un cycliste. Faites en sorte qu'on puisse choisir un id et afficher les trajets de cet id."
   ]
  },
  {
   "cell_type": "code",
   "execution_count": 235,
   "metadata": {},
   "outputs": [
    {
     "data": {
      "application/vnd.jupyter.widget-view+json": {
       "model_id": "06200d89861e4c93861880a93e33dde9",
       "version_major": 2,
       "version_minor": 0
      },
      "text/plain": [
       "interactive(children=(Dropdown(description='Cyclistes', options=('11', '15', '22', '28', '29', '3', '30', '34'…"
      ]
     },
     "metadata": {},
     "output_type": "display_data"
    }
   ],
   "source": [
    "import ipywidgets as widgets\n",
    "from ipywidgets import interact  \n",
    "import pandas as pd  \n",
    "import matplotlib.pyplot as plt \n",
    "import seaborn as sns  \n",
    "import numpy as np  \n",
    "\n",
    "cyclistes = df_cyclistes.id.unique()\n",
    "@interact(Cyclistes = cyclistes)\n",
    "def f(Cyclistes):      \n",
    "    fig, ax = plt.subplots(figsize=(12, 5))\n",
    "    data = df_cyclistes[df_cyclistes[\"id\"].str.contains(Cyclistes)]\n",
    "    return sns.barplot(data=data, x=\"trajet_id\", y=\"duree\")"
   ]
  },
  {
   "cell_type": "markdown",
   "metadata": {},
   "source": [
    "## 6) Sauvegarde\n",
    "\n",
    "Sauvegardez votre dataset trajets au format csv dans le dossier data."
   ]
  },
  {
   "cell_type": "code",
   "execution_count": null,
   "metadata": {
    "scrolled": true
   },
   "outputs": [],
   "source": [
    "path = \"./data/\"\n",
    "df_cyclistes.to_csv(path, \"df_cyclistes.csv\")"
   ]
  }
 ],
 "metadata": {
  "kernelspec": {
   "display_name": "Python 3 (ipykernel)",
   "language": "python",
   "name": "python3"
  },
  "language_info": {
   "codemirror_mode": {
    "name": "ipython",
    "version": 3
   },
   "file_extension": ".py",
   "mimetype": "text/x-python",
   "name": "python",
   "nbconvert_exporter": "python",
   "pygments_lexer": "ipython3",
   "version": "3.10.8"
  }
 },
 "nbformat": 4,
 "nbformat_minor": 4
}
