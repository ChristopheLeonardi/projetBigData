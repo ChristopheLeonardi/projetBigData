{
 "cells": [
  {
   "cell_type": "code",
   "execution_count": 9,
   "id": "90fccbf3-c489-4f40-b3e5-f6ff6185a5a9",
   "metadata": {},
   "outputs": [
    {
     "name": "stdout",
     "output_type": "stream",
     "text": [
      "Collecting kafka-python\n",
      "  Downloading kafka_python-2.0.2-py2.py3-none-any.whl (246 kB)\n",
      "\u001b[2K     \u001b[90m━━━━━━━━━━━━━━━━━━━━━━━━━━━━━━━━━━━━━━━\u001b[0m \u001b[32m246.5/246.5 kB\u001b[0m \u001b[31m2.1 MB/s\u001b[0m eta \u001b[36m0:00:00\u001b[0m00:01\u001b[0m00:01\u001b[0m\n",
      "\u001b[?25hInstalling collected packages: kafka-python\n",
      "Successfully installed kafka-python-2.0.2\n"
     ]
    }
   ],
   "source": []
  },
  {
   "cell_type": "code",
   "execution_count": 2,
   "id": "9894be15-8b4e-4ebc-a0f3-aab6ad254411",
   "metadata": {},
   "outputs": [
    {
     "name": "stdout",
     "output_type": "stream",
     "text": [
      "[{'url': 'https://ressources.data.sncf.com/api/records/1.0/search/?dataset=ponctualite-mensuelle-transilien&q=&rows=1&sort=date&facet=date&facet=service&facet=ligne', 'dataset_name': 'ponctualite-mensuelle-transilien'}, {'url': 'https://ressources.data.sncf.com/api/records/1.0/search/?dataset=validations-reseau-ferre-nombre-validations-par-jour-1er-semestre&q=&facet=jour&facet=libelle_arret&facet=categorie_titre', 'dataset_name': 'validations-reseau-ferre-nombre-validations'}]\n"
     ]
    }
   ],
   "source": [
    "import json\n",
    "f = open('sources.json')\n",
    "data_to_search = json.load(f)\n",
    "  \n",
    "print(data_to_search)\n",
    "f.close()"
   ]
  },
  {
   "cell_type": "code",
   "execution_count": 6,
   "id": "ed94602e-6456-488b-a055-cceab046661f",
   "metadata": {},
   "outputs": [
    {
     "name": "stdout",
     "output_type": "stream",
     "text": [
      "ponctualite-mensuelle-transilien\n",
      "<kafka.consumer.group.KafkaConsumer object at 0x7f53d59b2050>\n",
      "validations-reseau-ferre-nombre-validations\n",
      "<kafka.consumer.group.KafkaConsumer object at 0x7f53d59b1c30>\n"
     ]
    }
   ],
   "source": [
    "## consumer.py\n",
    "from kafka import KafkaConsumer\n",
    "import json\n",
    "import numpy as np\n",
    "\n",
    "sortie_dict = []\n",
    "topic=\"topic_SNCF\"\n",
    "for topic in data_to_search:\n",
    "    print(topic[\"dataset_name\"])\n",
    "    consumer = KafkaConsumer(topic[\"dataset_name\"], bootstrap_servers=['kafka:9093'], group_id=\"my_group\", auto_offset_reset=\"earliest\")\n",
    "    print(consumer)\n",
    "    for msg in consumer:\n",
    "        print(msg)\n",
    "        #Push les data in sql\n",
    "      #  sortie_msg = msg\n"
   ]
  },
  {
   "cell_type": "code",
   "execution_count": null,
   "id": "d10db8af-39d6-4027-8037-46e33c05ab9e",
   "metadata": {},
   "outputs": [],
   "source": [
    "print(sortie_msg)"
   ]
  }
 ],
 "metadata": {
  "kernelspec": {
   "display_name": "Python 3 (ipykernel)",
   "language": "python",
   "name": "python3"
  },
  "language_info": {
   "codemirror_mode": {
    "name": "ipython",
    "version": 3
   },
   "file_extension": ".py",
   "mimetype": "text/x-python",
   "name": "python",
   "nbconvert_exporter": "python",
   "pygments_lexer": "ipython3",
   "version": "3.10.8"
  }
 },
 "nbformat": 4,
 "nbformat_minor": 5
}
