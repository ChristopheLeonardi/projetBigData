{
 "cells": [
  {
   "cell_type": "code",
   "execution_count": 1,
   "id": "b74d1585-c29a-4941-aa3c-ee1f5e40eacb",
   "metadata": {},
   "outputs": [
    {
     "name": "stdout",
     "output_type": "stream",
     "text": [
      "Requirement already satisfied: kafka-python in /opt/conda/lib/python3.10/site-packages (2.0.2)\n"
     ]
    }
   ],
   "source": [
    "!pip install kafka-python"
   ]
  },
  {
   "cell_type": "code",
   "execution_count": 35,
   "id": "33c15125-3c1e-4f39-b867-c62beade0589",
   "metadata": {},
   "outputs": [
    {
     "name": "stdout",
     "output_type": "stream",
     "text": [
      "[{'url': 'https://ressources.data.sncf.com/api/records/1.0/search/?dataset=ponctualite-mensuelle-transilien&q=&rows=1&sort=date&facet=date&facet=service&facet=ligne', 'dataset_name': 'ponctualite-mensuelle-transilien'}, {'url': 'https://ressources.data.sncf.com/api/records/1.0/search/?dataset=ponctualite-mensuelle-transilien&q=&rows=1&sort=date&facet=date&facet=service&facet=ligne', 'dataset_name': 'duplicate-2'}]\n"
     ]
    }
   ],
   "source": [
    "import json\n",
    "f = open('sources.json')\n",
    "data_to_search = json.load(f)\n",
    "  \n",
    "print(data_to_search)\n",
    "f.close()"
   ]
  },
  {
   "cell_type": "code",
   "execution_count": null,
   "id": "1b3855bd-668e-4495-bb9a-9eac8142bcc2",
   "metadata": {},
   "outputs": [],
   "source": []
  },
  {
   "cell_type": "code",
   "execution_count": 49,
   "id": "cfbcb102-5107-471a-8839-795500e36538",
   "metadata": {
    "tags": []
   },
   "outputs": [
    {
     "name": "stdout",
     "output_type": "stream",
     "text": [
      "b'{\"nhits\": 1482, \"parameters\": {\"dataset\": [\"ponctualite-mensuelle-transilien\"], \"rows\": 1, \"start\": 0, \"sort\": [\"date\"], \"facet\": [\"date\", \"service\", \"ligne\"], \"format\": \"json\", \"timezone\": \"UTC\"}, \"records\": [{\"datasetid\": \"ponctualite-mensuelle-transilien\", \"recordid\": \"6b0d60b7efb5a4f71b3de0af527d679990d5169a\", \"fields\": {\"nombre_de_voyageurs_a_l_heure_pour_un_voyageur_en_retard\": 11.544, \"ligne\": \"E\", \"service\": \"RER\", \"nom_de_la_ligne\": \"RER E\", \"taux_de_ponctualite\": 92.028, \"date\": \"2022-10\"}, \"record_timestamp\": \"2022-11-17T09:09:20.797Z\"}], \"facet_groups\": [{\"name\": \"date\", \"facets\": [{\"name\": \"2013\", \"count\": 156, \"state\": \"displayed\", \"path\": \"2013\"}, {\"name\": \"2014\", \"count\": 156, \"state\": \"displayed\", \"path\": \"2014\"}, {\"name\": \"2015\", \"count\": 156, \"state\": \"displayed\", \"path\": \"2015\"}, {\"name\": \"2016\", \"count\": 156, \"state\": \"displayed\", \"path\": \"2016\"}, {\"name\": \"2017\", \"count\": 156, \"state\": \"displayed\", \"path\": \"2017\"}, {\"name\": \"2018\", \"count\": 156, \"state\": \"displayed\", \"path\": \"2018\"}, {\"name\": \"2019\", \"count\": 143, \"state\": \"displayed\", \"path\": \"2019\"}, {\"name\": \"2020\", \"count\": 117, \"state\": \"displayed\", \"path\": \"2020\"}, {\"name\": \"2021\", \"count\": 156, \"state\": \"displayed\", \"path\": \"2021\"}, {\"name\": \"2022\", \"count\": 130, \"state\": \"displayed\", \"path\": \"2022\"}]}, {\"name\": \"service\", \"facets\": [{\"name\": \"Transilien\", \"count\": 912, \"state\": \"displayed\", \"path\": \"Transilien\"}, {\"name\": \"RER\", \"count\": 570, \"state\": \"displayed\", \"path\": \"RER\"}]}, {\"name\": \"ligne\", \"facets\": [{\"name\": \"A\", \"count\": 114, \"state\": \"displayed\", \"path\": \"A\"}, {\"name\": \"B\", \"count\": 114, \"state\": \"displayed\", \"path\": \"B\"}, {\"name\": \"C\", \"count\": 114, \"state\": \"displayed\", \"path\": \"C\"}, {\"name\": \"D\", \"count\": 114, \"state\": \"displayed\", \"path\": \"D\"}, {\"name\": \"E\", \"count\": 114, \"state\": \"displayed\", \"path\": \"E\"}, {\"name\": \"H\", \"count\": 114, \"state\": \"displayed\", \"path\": \"H\"}, {\"name\": \"J\", \"count\": 114, \"state\": \"displayed\", \"path\": \"J\"}, {\"name\": \"K\", \"count\": 114, \"state\": \"displayed\", \"path\": \"K\"}, {\"name\": \"L\", \"count\": 114, \"state\": \"displayed\", \"path\": \"L\"}, {\"name\": \"N\", \"count\": 114, \"state\": \"displayed\", \"path\": \"N\"}, {\"name\": \"P\", \"count\": 114, \"state\": \"displayed\", \"path\": \"P\"}, {\"name\": \"R\", \"count\": 114, \"state\": \"displayed\", \"path\": \"R\"}, {\"name\": \"U\", \"count\": 114, \"state\": \"displayed\", \"path\": \"U\"}]}]}'\n",
      "b'{\"nhits\": 1482, \"parameters\": {\"dataset\": [\"ponctualite-mensuelle-transilien\"], \"rows\": 1, \"start\": 0, \"sort\": [\"date\"], \"facet\": [\"date\", \"service\", \"ligne\"], \"format\": \"json\", \"timezone\": \"UTC\"}, \"records\": [{\"datasetid\": \"ponctualite-mensuelle-transilien\", \"recordid\": \"6b0d60b7efb5a4f71b3de0af527d679990d5169a\", \"fields\": {\"nombre_de_voyageurs_a_l_heure_pour_un_voyageur_en_retard\": 11.544, \"ligne\": \"E\", \"service\": \"RER\", \"nom_de_la_ligne\": \"RER E\", \"taux_de_ponctualite\": 92.028, \"date\": \"2022-10\"}, \"record_timestamp\": \"2022-11-17T09:09:20.797Z\"}], \"facet_groups\": [{\"name\": \"date\", \"facets\": [{\"name\": \"2013\", \"count\": 156, \"state\": \"displayed\", \"path\": \"2013\"}, {\"name\": \"2014\", \"count\": 156, \"state\": \"displayed\", \"path\": \"2014\"}, {\"name\": \"2015\", \"count\": 156, \"state\": \"displayed\", \"path\": \"2015\"}, {\"name\": \"2016\", \"count\": 156, \"state\": \"displayed\", \"path\": \"2016\"}, {\"name\": \"2017\", \"count\": 156, \"state\": \"displayed\", \"path\": \"2017\"}, {\"name\": \"2018\", \"count\": 156, \"state\": \"displayed\", \"path\": \"2018\"}, {\"name\": \"2019\", \"count\": 143, \"state\": \"displayed\", \"path\": \"2019\"}, {\"name\": \"2020\", \"count\": 117, \"state\": \"displayed\", \"path\": \"2020\"}, {\"name\": \"2021\", \"count\": 156, \"state\": \"displayed\", \"path\": \"2021\"}, {\"name\": \"2022\", \"count\": 130, \"state\": \"displayed\", \"path\": \"2022\"}]}, {\"name\": \"service\", \"facets\": [{\"name\": \"Transilien\", \"count\": 912, \"state\": \"displayed\", \"path\": \"Transilien\"}, {\"name\": \"RER\", \"count\": 570, \"state\": \"displayed\", \"path\": \"RER\"}]}, {\"name\": \"ligne\", \"facets\": [{\"name\": \"A\", \"count\": 114, \"state\": \"displayed\", \"path\": \"A\"}, {\"name\": \"B\", \"count\": 114, \"state\": \"displayed\", \"path\": \"B\"}, {\"name\": \"C\", \"count\": 114, \"state\": \"displayed\", \"path\": \"C\"}, {\"name\": \"D\", \"count\": 114, \"state\": \"displayed\", \"path\": \"D\"}, {\"name\": \"E\", \"count\": 114, \"state\": \"displayed\", \"path\": \"E\"}, {\"name\": \"H\", \"count\": 114, \"state\": \"displayed\", \"path\": \"H\"}, {\"name\": \"J\", \"count\": 114, \"state\": \"displayed\", \"path\": \"J\"}, {\"name\": \"K\", \"count\": 114, \"state\": \"displayed\", \"path\": \"K\"}, {\"name\": \"L\", \"count\": 114, \"state\": \"displayed\", \"path\": \"L\"}, {\"name\": \"N\", \"count\": 114, \"state\": \"displayed\", \"path\": \"N\"}, {\"name\": \"P\", \"count\": 114, \"state\": \"displayed\", \"path\": \"P\"}, {\"name\": \"R\", \"count\": 114, \"state\": \"displayed\", \"path\": \"R\"}, {\"name\": \"U\", \"count\": 114, \"state\": \"displayed\", \"path\": \"U\"}]}]}'\n"
     ]
    }
   ],
   "source": [
    "## producer.py\n",
    "from kafka import KafkaProducer\n",
    "import numpy as np\n",
    "import time\n",
    "import requests\n",
    "\n",
    "p = KafkaProducer(bootstrap_servers=['kafka:9093'])\n",
    "\n",
    "bol = True\n",
    "while bol == True:\n",
    "    time.sleep(1)\n",
    "    for query in data_to_search:\n",
    "        data = requests.get(query[\"url\"]).content\n",
    "        print(data)\n",
    "        p.send(query[\"dataset_name\"], data)\n",
    "    #result = p.send(topic, messageAPI)\n",
    "    bol = False\n"
   ]
  },
  {
   "cell_type": "code",
   "execution_count": null,
   "id": "678a65de-87b8-415e-a3d8-3f0e1be4877f",
   "metadata": {},
   "outputs": [],
   "source": []
  }
 ],
 "metadata": {
  "kernelspec": {
   "display_name": "Python 3 (ipykernel)",
   "language": "python",
   "name": "python3"
  },
  "language_info": {
   "codemirror_mode": {
    "name": "ipython",
    "version": 3
   },
   "file_extension": ".py",
   "mimetype": "text/x-python",
   "name": "python",
   "nbconvert_exporter": "python",
   "pygments_lexer": "ipython3",
   "version": "3.10.8"
  }
 },
 "nbformat": 4,
 "nbformat_minor": 5
}
