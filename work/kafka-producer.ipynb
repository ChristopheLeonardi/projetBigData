{
 "cells": [
  {
   "cell_type": "code",
   "execution_count": 1,
   "id": "b74d1585-c29a-4941-aa3c-ee1f5e40eacb",
   "metadata": {},
   "outputs": [
    {
     "name": "stdout",
     "output_type": "stream",
     "text": [
      "Requirement already satisfied: kafka-python in /opt/conda/lib/python3.10/site-packages (2.0.2)\n"
     ]
    }
   ],
   "source": [
    "!pip install kafka-python"
   ]
  },
  {
   "cell_type": "code",
   "execution_count": null,
   "id": "cfbcb102-5107-471a-8839-795500e36538",
   "metadata": {},
   "outputs": [],
   "source": [
    "## producer.py\n",
    "from kafka import KafkaProducer\n",
    "import json\n",
    "import numpy as np\n",
    "import time\n",
    "p = KafkaProducer(bootstrap_servers=['kafka:9093'])\n",
    "\n",
    "i = 0\n",
    "while True:\n",
    "    time.sleep(10)\n",
    "    # Changer en fonction de la source de données\n",
    "    v = np.random.standard_normal(100)\n",
    "    data1 = str(v.tolist())\n",
    "    data2 = eval(data1)\n",
    "    data = { 'id': i,\n",
    "        'type': 'norm',\n",
    "        'data': data2}\n",
    "\n",
    "    p.send('test', json.dumps(data).encode('utf-8'))\n",
    "    p.flush()\n",
    "\n",
    "    i += 1"
   ]
  }
 ],
 "metadata": {
  "kernelspec": {
   "display_name": "Python 3 (ipykernel)",
   "language": "python",
   "name": "python3"
  },
  "language_info": {
   "codemirror_mode": {
    "name": "ipython",
    "version": 3
   },
   "file_extension": ".py",
   "mimetype": "text/x-python",
   "name": "python",
   "nbconvert_exporter": "python",
   "pygments_lexer": "ipython3",
   "version": "3.10.8"
  }
 },
 "nbformat": 4,
 "nbformat_minor": 5
}
