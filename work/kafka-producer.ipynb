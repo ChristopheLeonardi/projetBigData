{
 "cells": [
  {
   "cell_type": "code",
   "execution_count": 1,
   "id": "b74d1585-c29a-4941-aa3c-ee1f5e40eacb",
   "metadata": {},
   "outputs": [
    {
     "name": "stdout",
     "output_type": "stream",
     "text": [
      "Requirement already satisfied: kafka-python in /opt/conda/lib/python3.10/site-packages (2.0.2)\n"
     ]
    }
   ],
   "source": [
    "!pip install kafka-python"
   ]
  },
  {
   "cell_type": "code",
   "execution_count": 4,
   "id": "33c15125-3c1e-4f39-b867-c62beade0589",
   "metadata": {},
   "outputs": [
    {
     "name": "stdout",
     "output_type": "stream",
     "text": [
      "[{'url': 'https://ressources.data.sncf.com/api/records/1.0/search/?dataset=ponctualite-mensuelle-transilien&q=&rows=1&sort=date&facet=date&facet=service&facet=ligne', 'dataset_name': 'ponctualite-mensuelle-transilien'}, {'url': 'https://ressources.data.sncf.com/api/records/1.0/search/?dataset=validations-reseau-ferre-nombre-validations-par-jour-1er-semestre&q=&facet=jour&facet=libelle_arret&facet=categorie_titre', 'dataset_name': 'validations-reseau-ferre-nombre-validations'}]\n"
     ]
    }
   ],
   "source": [
    "import json\n",
    "f = open('sources.json')\n",
    "data_to_search = json.load(f)\n",
    "  \n",
    "print(data_to_search)\n",
    "f.close()"
   ]
  },
  {
   "cell_type": "code",
   "execution_count": null,
   "id": "1b3855bd-668e-4495-bb9a-9eac8142bcc2",
   "metadata": {},
   "outputs": [],
   "source": []
  },
  {
   "cell_type": "code",
   "execution_count": 8,
   "id": "cfbcb102-5107-471a-8839-795500e36538",
   "metadata": {
    "tags": []
   },
   "outputs": [
    {
     "name": "stdout",
     "output_type": "stream",
     "text": [
      "{'url': 'https://ressources.data.sncf.com/api/records/1.0/search/?dataset=ponctualite-mensuelle-transilien&q=&rows=1&sort=date&facet=date&facet=service&facet=ligne', 'dataset_name': 'ponctualite-mensuelle-transilien'}\n",
      "b'{\"nhits\": 1482, \"parameters\": {\"dataset\": [\"ponctualite-mensuelle-transilien\"], \"rows\": 1, \"start\": 0, \"sort\": [\"date\"], \"facet\": [\"date\", \"service\", \"ligne\"], \"format\": \"json\", \"timezone\": \"UTC\"}, \"records\": [{\"datasetid\": \"ponctualite-mensuelle-transilien\", \"recordid\": \"6b0d60b7efb5a4f71b3de0af527d679990d5169a\", \"fields\": {\"nombre_de_voyageurs_a_l_heure_pour_un_voyageur_en_retard\": 11.544, \"ligne\": \"E\", \"service\": \"RER\", \"nom_de_la_ligne\": \"RER E\", \"taux_de_ponctualite\": 92.028, \"date\": \"2022-10\"}, \"record_timestamp\": \"2022-11-17T09:09:20.797Z\"}], \"facet_groups\": [{\"name\": \"date\", \"facets\": [{\"name\": \"2013\", \"count\": 156, \"state\": \"displayed\", \"path\": \"2013\"}, {\"name\": \"2014\", \"count\": 156, \"state\": \"displayed\", \"path\": \"2014\"}, {\"name\": \"2015\", \"count\": 156, \"state\": \"displayed\", \"path\": \"2015\"}, {\"name\": \"2016\", \"count\": 156, \"state\": \"displayed\", \"path\": \"2016\"}, {\"name\": \"2017\", \"count\": 156, \"state\": \"displayed\", \"path\": \"2017\"}, {\"name\": \"2018\", \"count\": 156, \"state\": \"displayed\", \"path\": \"2018\"}, {\"name\": \"2019\", \"count\": 143, \"state\": \"displayed\", \"path\": \"2019\"}, {\"name\": \"2020\", \"count\": 117, \"state\": \"displayed\", \"path\": \"2020\"}, {\"name\": \"2021\", \"count\": 156, \"state\": \"displayed\", \"path\": \"2021\"}, {\"name\": \"2022\", \"count\": 130, \"state\": \"displayed\", \"path\": \"2022\"}]}, {\"name\": \"service\", \"facets\": [{\"name\": \"Transilien\", \"count\": 912, \"state\": \"displayed\", \"path\": \"Transilien\"}, {\"name\": \"RER\", \"count\": 570, \"state\": \"displayed\", \"path\": \"RER\"}]}, {\"name\": \"ligne\", \"facets\": [{\"name\": \"A\", \"count\": 114, \"state\": \"displayed\", \"path\": \"A\"}, {\"name\": \"B\", \"count\": 114, \"state\": \"displayed\", \"path\": \"B\"}, {\"name\": \"C\", \"count\": 114, \"state\": \"displayed\", \"path\": \"C\"}, {\"name\": \"D\", \"count\": 114, \"state\": \"displayed\", \"path\": \"D\"}, {\"name\": \"E\", \"count\": 114, \"state\": \"displayed\", \"path\": \"E\"}, {\"name\": \"H\", \"count\": 114, \"state\": \"displayed\", \"path\": \"H\"}, {\"name\": \"J\", \"count\": 114, \"state\": \"displayed\", \"path\": \"J\"}, {\"name\": \"K\", \"count\": 114, \"state\": \"displayed\", \"path\": \"K\"}, {\"name\": \"L\", \"count\": 114, \"state\": \"displayed\", \"path\": \"L\"}, {\"name\": \"N\", \"count\": 114, \"state\": \"displayed\", \"path\": \"N\"}, {\"name\": \"P\", \"count\": 114, \"state\": \"displayed\", \"path\": \"P\"}, {\"name\": \"R\", \"count\": 114, \"state\": \"displayed\", \"path\": \"R\"}, {\"name\": \"U\", \"count\": 114, \"state\": \"displayed\", \"path\": \"U\"}]}]}'\n",
      "{'url': 'https://ressources.data.sncf.com/api/records/1.0/search/?dataset=validations-reseau-ferre-nombre-validations-par-jour-1er-semestre&q=&facet=jour&facet=libelle_arret&facet=categorie_titre', 'dataset_name': 'validations-reseau-ferre-nombre-validations'}\n",
      "b'{\"nhits\": 1088334, \"parameters\": {\"dataset\": [\"validations-reseau-ferre-nombre-validations-par-jour-1er-semestre\"], \"rows\": 10, \"start\": 0, \"facet\": [\"jour\", \"libelle_arret\", \"categorie_titre\"], \"format\": \"json\", \"timezone\": \"UTC\"}, \"records\": [{\"datasetid\": \"validations-reseau-ferre-nombre-validations-par-jour-1er-semestre\", \"recordid\": \"3f42c3f41e9dffb78365c31f20cd2b43e9c4e13a\", \"fields\": {\"code_stif_trns\": \"800\", \"categorie_titre\": \"NON DEFINI\", \"jour\": \"2022-06-01\", \"code_stif_res\": \"854\", \"nb_vald\": 14, \"id_refa_lda\": 64949, \"libelle_arret\": \"VILLENNES-SUR-SEINE\", \"code_stif_arret\": \"903\"}, \"record_timestamp\": \"2022-08-30T13:54:49.101Z\"}, {\"datasetid\": \"validations-reseau-ferre-nombre-validations-par-jour-1er-semestre\", \"recordid\": \"b0e72e68c12f3128e3233bf813d1f6927b6cfaf5\", \"fields\": {\"code_stif_trns\": \"800\", \"categorie_titre\": \"FGT\", \"jour\": \"2022-06-01\", \"code_stif_res\": \"854\", \"nb_vald\": 27, \"id_refa_lda\": 422420, \"libelle_arret\": \"VIROFLAY RIVE DROITE\", \"code_stif_arret\": \"914\"}, \"record_timestamp\": \"2022-08-30T13:54:49.101Z\"}, {\"datasetid\": \"validations-reseau-ferre-nombre-validations-par-jour-1er-semestre\", \"recordid\": \"ca501a5a82db8a54951c8969942411f62b6e9f88\", \"fields\": {\"code_stif_trns\": \"800\", \"categorie_titre\": \"IMAGINE R\", \"jour\": \"2022-06-01\", \"code_stif_res\": \"854\", \"nb_vald\": 529, \"id_refa_lda\": 422420, \"libelle_arret\": \"VIROFLAY RIVE DROITE\", \"code_stif_arret\": \"914\"}, \"record_timestamp\": \"2022-08-30T13:54:49.101Z\"}, {\"datasetid\": \"validations-reseau-ferre-nombre-validations-par-jour-1er-semestre\", \"recordid\": \"5f2c7c51d0bc7d9769d933591f380020d07d30a2\", \"fields\": {\"code_stif_trns\": \"800\", \"categorie_titre\": \"NAVIGO\", \"jour\": \"2022-06-01\", \"code_stif_res\": \"854\", \"nb_vald\": 1816, \"id_refa_lda\": 422420, \"libelle_arret\": \"VIROFLAY RIVE DROITE\", \"code_stif_arret\": \"914\"}, \"record_timestamp\": \"2022-08-30T13:54:49.101Z\"}, {\"datasetid\": \"validations-reseau-ferre-nombre-validations-par-jour-1er-semestre\", \"recordid\": \"d15cf684ce280182c4977c7b8d4bc9177886f835\", \"fields\": {\"code_stif_trns\": \"800\", \"categorie_titre\": \"NON DEFINI\", \"jour\": \"2022-06-01\", \"code_stif_res\": \"854\", \"nb_vald\": 29, \"id_refa_lda\": 422420, \"libelle_arret\": \"VIROFLAY RIVE DROITE\", \"code_stif_arret\": \"914\"}, \"record_timestamp\": \"2022-08-30T13:54:49.101Z\"}, {\"datasetid\": \"validations-reseau-ferre-nombre-validations-par-jour-1er-semestre\", \"recordid\": \"d2f2cc4037d6aa5eb1b6d87a14d7e5cb95dc7690\", \"fields\": {\"code_stif_trns\": \"800\", \"categorie_titre\": \"TST\", \"jour\": \"2022-06-01\", \"code_stif_res\": \"854\", \"nb_vald\": 12, \"id_refa_lda\": 66741, \"libelle_arret\": \"BONNIERES\", \"code_stif_arret\": \"92\"}, \"record_timestamp\": \"2022-08-30T13:54:49.101Z\"}, {\"datasetid\": \"validations-reseau-ferre-nombre-validations-par-jour-1er-semestre\", \"recordid\": \"28c374cd8c5d65aed33109517ea1ec5f9632e841\", \"fields\": {\"code_stif_trns\": \"800\", \"categorie_titre\": \"?\", \"jour\": \"2022-06-01\", \"code_stif_res\": \"854\", \"nb_vald\": 5, \"id_refa_lda\": 64301, \"libelle_arret\": \"BOUGIVAL\", \"code_stif_arret\": \"96\"}, \"record_timestamp\": \"2022-08-30T13:54:49.101Z\"}, {\"datasetid\": \"validations-reseau-ferre-nombre-validations-par-jour-1er-semestre\", \"recordid\": \"c1917708bcf487b09f12c36fa79a68ad4914ef25\", \"fields\": {\"code_stif_trns\": \"800\", \"categorie_titre\": \"IMAGINE R\", \"jour\": \"2022-06-01\", \"code_stif_res\": \"854\", \"nb_vald\": 196, \"id_refa_lda\": 64301, \"libelle_arret\": \"BOUGIVAL\", \"code_stif_arret\": \"96\"}, \"record_timestamp\": \"2022-08-30T13:54:49.101Z\"}, {\"datasetid\": \"validations-reseau-ferre-nombre-validations-par-jour-1er-semestre\", \"recordid\": \"2749755c5f6e63eee5c4be0dd7fd2fbe5b1b7674\", \"fields\": {\"code_stif_trns\": \"800\", \"categorie_titre\": \"NON DEFINI\", \"jour\": \"2022-06-01\", \"code_stif_res\": \"854\", \"nb_vald\": 13, \"id_refa_lda\": 64301, \"libelle_arret\": \"BOUGIVAL\", \"code_stif_arret\": \"96\"}, \"record_timestamp\": \"2022-08-30T13:54:49.101Z\"}, {\"datasetid\": \"validations-reseau-ferre-nombre-validations-par-jour-1er-semestre\", \"recordid\": \"37289e7aff72f33d8a59d1e51c612daf7069a3b5\", \"fields\": {\"code_stif_trns\": \"810\", \"categorie_titre\": \"?\", \"jour\": \"2022-06-01\", \"code_stif_res\": \"801\", \"nb_vald\": 172, \"id_refa_lda\": 73166, \"libelle_arret\": \"BRY-SUR-MARNE\", \"code_stif_arret\": \"116\"}, \"record_timestamp\": \"2022-08-30T13:54:49.101Z\"}], \"facet_groups\": [{\"name\": \"jour\", \"facets\": [{\"name\": \"2022\", \"count\": 1088334, \"state\": \"displayed\", \"path\": \"2022\"}]}, {\"name\": \"libelle_arret\", \"facets\": [{\"name\": \"GARE DE LYON\", \"count\": 4886, \"state\": \"displayed\", \"path\": \"GARE DE LYON\"}, {\"name\": \"LA DEFENSE-GRANDE ARCHE\", \"count\": 3971, \"state\": \"displayed\", \"path\": \"LA DEFENSE-GRANDE ARCHE\"}, {\"name\": \"CHARLES DE GAULLE ETOILE\", \"count\": 3258, \"state\": \"displayed\", \"path\": \"CHARLES DE GAULLE ETOILE\"}, {\"name\": \"GARE DU NORD\", \"count\": 3258, \"state\": \"displayed\", \"path\": \"GARE DU NORD\"}, {\"name\": \"NATION\", \"count\": 3258, \"state\": \"displayed\", \"path\": \"NATION\"}, {\"name\": \"SAINT-LAZARE\", \"count\": 3258, \"state\": \"displayed\", \"path\": \"SAINT-LAZARE\"}, {\"name\": \"INVALIDES\", \"count\": 3252, \"state\": \"displayed\", \"path\": \"INVALIDES\"}, {\"name\": \"DENFERT-ROCHEREAU\", \"count\": 3249, \"state\": \"displayed\", \"path\": \"DENFERT-ROCHEREAU\"}, {\"name\": \"BIBLIOTHEQUE FRANCOIS MITTERRAND\", \"count\": 3221, \"state\": \"displayed\", \"path\": \"BIBLIOTHEQUE FRANCOIS MITTERRAND\"}, {\"name\": \"GARE DE L\\'EST\", \"count\": 3219, \"state\": \"displayed\", \"path\": \"GARE DE L\\'EST\"}, {\"name\": \"JAVEL\", \"count\": 3215, \"state\": \"displayed\", \"path\": \"JAVEL\"}, {\"name\": \"AUSTERLITZ\", \"count\": 3212, \"state\": \"displayed\", \"path\": \"AUSTERLITZ\"}, {\"name\": \"PORTE MAILLOT\", \"count\": 3202, \"state\": \"displayed\", \"path\": \"PORTE MAILLOT\"}, {\"name\": \"MONTPARNASSE\", \"count\": 3192, \"state\": \"displayed\", \"path\": \"MONTPARNASSE\"}, {\"name\": \"SAINT-MICHEL NOTRE DAME\", \"count\": 3185, \"state\": \"displayed\", \"path\": \"SAINT-MICHEL NOTRE DAME\"}, {\"name\": \"PEREIRE-LEVALLOIS\", \"count\": 3035, \"state\": \"displayed\", \"path\": \"PEREIRE-LEVALLOIS\"}, {\"name\": \"MASSY-PALAISEAU\", \"count\": 3034, \"state\": \"displayed\", \"path\": \"MASSY-PALAISEAU\"}, {\"name\": \"NANTERRE-UNIVERSITE\", \"count\": 2676, \"state\": \"displayed\", \"path\": \"NANTERRE-UNIVERSITE\"}, {\"name\": \"SAINT-FARGEAU\", \"count\": 2522, \"state\": \"displayed\", \"path\": \"SAINT-FARGEAU\"}, {\"name\": \"MASSY-VERRIERES\", \"count\": 2506, \"state\": \"displayed\", \"path\": \"MASSY-VERRIERES\"}, {\"name\": \"BERCY\", \"count\": 2238, \"state\": \"displayed\", \"path\": \"BERCY\"}, {\"name\": \"BASILIQUE DE SAINT-DENIS\", \"count\": 1629, \"state\": \"displayed\", \"path\": \"BASILIQUE DE SAINT-DENIS\"}, {\"name\": \"BELLEVILLE\", \"count\": 1629, \"state\": \"displayed\", \"path\": \"BELLEVILLE\"}, {\"name\": \"BONNE NOUVELLE\", \"count\": 1629, \"state\": \"displayed\", \"path\": \"BONNE NOUVELLE\"}, {\"name\": \"CHAMP DE MARS-TOUR EIFFEL\", \"count\": 1629, \"state\": \"displayed\", \"path\": \"CHAMP DE MARS-TOUR EIFFEL\"}, {\"name\": \"CHAMPS-ELYSEES-CLEMENCEAU\", \"count\": 1629, \"state\": \"displayed\", \"path\": \"CHAMPS-ELYSEES-CLEMENCEAU\"}, {\"name\": \"CHATEAU DE VINCENNES\", \"count\": 1629, \"state\": \"displayed\", \"path\": \"CHATEAU DE VINCENNES\"}, {\"name\": \"CHATELET\", \"count\": 1629, \"state\": \"displayed\", \"path\": \"CHATELET\"}, {\"name\": \"CHATELET-LES HALLES\", \"count\": 1629, \"state\": \"displayed\", \"path\": \"CHATELET-LES HALLES\"}, {\"name\": \"CITE UNIVERSITAIRE\", \"count\": 1629, \"state\": \"displayed\", \"path\": \"CITE UNIVERSITAIRE\"}, {\"name\": \"CLICHY ST-OUEN\", \"count\": 1629, \"state\": \"displayed\", \"path\": \"CLICHY ST-OUEN\"}, {\"name\": \"CONVENTION\", \"count\": 1629, \"state\": \"displayed\", \"path\": \"CONVENTION\"}, {\"name\": \"COUR SAINT-EMILION\", \"count\": 1629, \"state\": \"displayed\", \"path\": \"COUR SAINT-EMILION\"}, {\"name\": \"CROIX DE CHAVAUX (JACQUES DUCLOS)\", \"count\": 1629, \"state\": \"displayed\", \"path\": \"CROIX DE CHAVAUX (JACQUES DUCLOS)\"}, {\"name\": \"DAUMESNIL\", \"count\": 1629, \"state\": \"displayed\", \"path\": \"DAUMESNIL\"}, {\"name\": \"ESPLANADE DE LA DEFENSE\", \"count\": 1629, \"state\": \"displayed\", \"path\": \"ESPLANADE DE LA DEFENSE\"}, {\"name\": \"FRANKLIN-D.ROOSEVELT\", \"count\": 1629, \"state\": \"displayed\", \"path\": \"FRANKLIN-D.ROOSEVELT\"}, {\"name\": \"FUNICULAIRE\", \"count\": 1629, \"state\": \"displayed\", \"path\": \"FUNICULAIRE\"}, {\"name\": \"IENA\", \"count\": 1629, \"state\": \"displayed\", \"path\": \"IENA\"}, {\"name\": \"LE KREMLIN-BICETRE\", \"count\": 1629, \"state\": \"displayed\", \"path\": \"LE KREMLIN-BICETRE\"}, {\"name\": \"LOUVRE-RIVOLI\", \"count\": 1629, \"state\": \"displayed\", \"path\": \"LOUVRE-RIVOLI\"}, {\"name\": \"LUXEMBOURG\", \"count\": 1629, \"state\": \"displayed\", \"path\": \"LUXEMBOURG\"}, {\"name\": \"MADELEINE\", \"count\": 1629, \"state\": \"displayed\", \"path\": \"MADELEINE\"}, {\"name\": \"MAIRIE D\\'IVRY\", \"count\": 1629, \"state\": \"displayed\", \"path\": \"MAIRIE D\\'IVRY\"}, {\"name\": \"MAIRIE DE MONTREUIL\", \"count\": 1629, \"state\": \"displayed\", \"path\": \"MAIRIE DE MONTREUIL\"}, {\"name\": \"MAIRIE ST-OUEN\", \"count\": 1629, \"state\": \"displayed\", \"path\": \"MAIRIE ST-OUEN\"}, {\"name\": \"MIROMESNIL\", \"count\": 1629, \"state\": \"displayed\", \"path\": \"MIROMESNIL\"}, {\"name\": \"OBERKAMPF\", \"count\": 1629, \"state\": \"displayed\", \"path\": \"OBERKAMPF\"}, {\"name\": \"OLYMPIADES\", \"count\": 1629, \"state\": \"displayed\", \"path\": \"OLYMPIADES\"}, {\"name\": \"PALAIS ROYAL-MUSEE DU LOUVRE\", \"count\": 1629, \"state\": \"displayed\", \"path\": \"PALAIS ROYAL-MUSEE DU LOUVRE\"}, {\"name\": \"PLACE D\\'ITALIE\", \"count\": 1629, \"state\": \"displayed\", \"path\": \"PLACE D\\'ITALIE\"}, {\"name\": \"PLACE MONGE (JARDIN DES PLANTES)\", \"count\": 1629, \"state\": \"displayed\", \"path\": \"PLACE MONGE (JARDIN DES PLANTES)\"}, {\"name\": \"PLAISANCE\", \"count\": 1629, \"state\": \"displayed\", \"path\": \"PLAISANCE\"}, {\"name\": \"PONT CARDINET\", \"count\": 1629, \"state\": \"displayed\", \"path\": \"PONT CARDINET\"}, {\"name\": \"PONT DE L\\'ALMA\", \"count\": 1629, \"state\": \"displayed\", \"path\": \"PONT DE L\\'ALMA\"}, {\"name\": \"PONT DE NEUILLY (AVENUE DE MADRID)\", \"count\": 1629, \"state\": \"displayed\", \"path\": \"PONT DE NEUILLY (AVENUE DE MADRID)\"}, {\"name\": \"PORTE DE CHOISY\", \"count\": 1629, \"state\": \"displayed\", \"path\": \"PORTE DE CHOISY\"}, {\"name\": \"PORTE DE MONTREUIL\", \"count\": 1629, \"state\": \"displayed\", \"path\": \"PORTE DE MONTREUIL\"}, {\"name\": \"PORTE DE SAINT-CLOUD\", \"count\": 1629, \"state\": \"displayed\", \"path\": \"PORTE DE SAINT-CLOUD\"}, {\"name\": \"PORTE DE VINCENNES\", \"count\": 1629, \"state\": \"displayed\", \"path\": \"PORTE DE VINCENNES\"}, {\"name\": \"PTE DE CLICHY\", \"count\": 1629, \"state\": \"displayed\", \"path\": \"PTE DE CLICHY\"}, {\"name\": \"PYRAMIDES\", \"count\": 1629, \"state\": \"displayed\", \"path\": \"PYRAMIDES\"}, {\"name\": \"REAUMUR-SEBASTOPOL\", \"count\": 1629, \"state\": \"displayed\", \"path\": \"REAUMUR-SEBASTOPOL\"}, {\"name\": \"RICHELIEU-DROUOT\", \"count\": 1629, \"state\": \"displayed\", \"path\": \"RICHELIEU-DROUOT\"}, {\"name\": \"ROBESPIERRE\", \"count\": 1629, \"state\": \"displayed\", \"path\": \"ROBESPIERRE\"}, {\"name\": \"RUE DES BOULETS\", \"count\": 1629, \"state\": \"displayed\", \"path\": \"RUE DES BOULETS\"}, {\"name\": \"SAINT-DENIS-PORTE DE PARIS\", \"count\": 1629, \"state\": \"displayed\", \"path\": \"SAINT-DENIS-PORTE DE PARIS\"}, {\"name\": \"SAINT-DENIS-UNIVERSITE\", \"count\": 1629, \"state\": \"displayed\", \"path\": \"SAINT-DENIS-UNIVERSITE\"}, {\"name\": \"SAINT-PAUL (LE MARAIS)\", \"count\": 1629, \"state\": \"displayed\", \"path\": \"SAINT-PAUL (LE MARAIS)\"}, {\"name\": \"TOLBIAC\", \"count\": 1629, \"state\": \"displayed\", \"path\": \"TOLBIAC\"}, {\"name\": \"VAUGIRARD (ADOLPHE CHERIOU)\", \"count\": 1629, \"state\": \"displayed\", \"path\": \"VAUGIRARD (ADOLPHE CHERIOU)\"}, {\"name\": \"VILLEJUIF-LOUIS ARAGON\", \"count\": 1629, \"state\": \"displayed\", \"path\": \"VILLEJUIF-LOUIS ARAGON\"}, {\"name\": \"VOLTAIRE (LEON BLUM)\", \"count\": 1629, \"state\": \"displayed\", \"path\": \"VOLTAIRE (LEON BLUM)\"}, {\"name\": \"ANATOLE FRANCE\", \"count\": 1628, \"state\": \"displayed\", \"path\": \"ANATOLE FRANCE\"}, {\"name\": \"CHEVALERET\", \"count\": 1628, \"state\": \"displayed\", \"path\": \"CHEVALERET\"}, {\"name\": \"CORENTIN-CELTON\", \"count\": 1628, \"state\": \"displayed\", \"path\": \"CORENTIN-CELTON\"}, {\"name\": \"GABRIEL PERI-ASNIERES-GENNEVILLIERS\", \"count\": 1628, \"state\": \"displayed\", \"path\": \"GABRIEL PERI-ASNIERES-GENNEVILLIERS\"}, {\"name\": \"GUY MOQUET\", \"count\": 1628, \"state\": \"displayed\", \"path\": \"GUY MOQUET\"}, {\"name\": \"LA CHAPELLE\", \"count\": 1628, \"state\": \"displayed\", \"path\": \"LA CHAPELLE\"}, {\"name\": \"LA MUETTE\", \"count\": 1628, \"state\": \"displayed\", \"path\": \"LA MUETTE\"}, {\"name\": \"LES GOBELINS\", \"count\": 1628, \"state\": \"displayed\", \"path\": \"LES GOBELINS\"}, {\"name\": \"LOUISE MICHEL\", \"count\": 1628, \"state\": \"displayed\", \"path\": \"LOUISE MICHEL\"}, {\"name\": \"MAIRIE D\\'ISSY\", \"count\": 1628, \"state\": \"displayed\", \"path\": \"MAIRIE D\\'ISSY\"}, {\"name\": \"MAIRIE DE CLICHY\", \"count\": 1628, \"state\": \"displayed\", \"path\": \"MAIRIE DE CLICHY\"}, {\"name\": \"PASTEUR\", \"count\": 1628, \"state\": \"displayed\", \"path\": \"PASTEUR\"}, {\"name\": \"PORTE D\\'ITALIE\", \"count\": 1628, \"state\": \"displayed\", \"path\": \"PORTE D\\'ITALIE\"}, {\"name\": \"PORTE DE VANVES\", \"count\": 1628, \"state\": \"displayed\", \"path\": \"PORTE DE VANVES\"}, {\"name\": \"RAMBUTEAU\", \"count\": 1628, \"state\": \"displayed\", \"path\": \"RAMBUTEAU\"}, {\"name\": \"REUILLY-DIDEROT\", \"count\": 1628, \"state\": \"displayed\", \"path\": \"REUILLY-DIDEROT\"}, {\"name\": \"SAINT-AMBROISE\", \"count\": 1628, \"state\": \"displayed\", \"path\": \"SAINT-AMBROISE\"}, {\"name\": \"SAINT-AUGUSTIN\", \"count\": 1628, \"state\": \"displayed\", \"path\": \"SAINT-AUGUSTIN\"}, {\"name\": \"SAINT-MANDE-TOURELLE\", \"count\": 1628, \"state\": \"displayed\", \"path\": \"SAINT-MANDE-TOURELLE\"}, {\"name\": \"BASTILLE\", \"count\": 1627, \"state\": \"displayed\", \"path\": \"BASTILLE\"}, {\"name\": \"FILLES DU CALVAIRE\", \"count\": 1627, \"state\": \"displayed\", \"path\": \"FILLES DU CALVAIRE\"}, {\"name\": \"GAITE\", \"count\": 1627, \"state\": \"displayed\", \"path\": \"GAITE\"}, {\"name\": \"GONCOURT (HOPITAL SAINT-LOUIS)\", \"count\": 1627, \"state\": \"displayed\", \"path\": \"GONCOURT (HOPITAL SAINT-LOUIS)\"}, {\"name\": \"LES COURTILLES\", \"count\": 1627, \"state\": \"displayed\", \"path\": \"LES COURTILLES\"}, {\"name\": \"LOUIS BLANC\", \"count\": 1627, \"state\": \"displayed\", \"path\": \"LOUIS BLANC\"}, {\"name\": \"MALAKOFF-PLATEAU DE VANVES\", \"count\": 1627, \"state\": \"displayed\", \"path\": \"MALAKOFF-PLATEAU DE VANVES\"}, {\"name\": \"PONT DE LEVALLOIS-BECON\", \"count\": 1627, \"state\": \"displayed\", \"path\": \"PONT DE LEVALLOIS-BECON\"}]}, {\"name\": \"categorie_titre\", \"facets\": [{\"name\": \"NAVIGO\", \"count\": 134269, \"state\": \"displayed\", \"path\": \"NAVIGO\"}, {\"name\": \"IMAGINE R\", \"count\": 133551, \"state\": \"displayed\", \"path\": \"IMAGINE R\"}, {\"name\": \"TST\", \"count\": 130794, \"state\": \"displayed\", \"path\": \"TST\"}, {\"name\": \"FGT\", \"count\": 130085, \"state\": \"displayed\", \"path\": \"FGT\"}, {\"name\": \"NON DEFINI\", \"count\": 128194, \"state\": \"displayed\", \"path\": \"NON DEFINI\"}, {\"name\": \"AMETHYSTE\", \"count\": 127186, \"state\": \"displayed\", \"path\": \"AMETHYSTE\"}, {\"name\": \"?\", \"count\": 119255, \"state\": \"displayed\", \"path\": \"?\"}, {\"name\": \"NAVIGO JOUR\", \"count\": 115261, \"state\": \"displayed\", \"path\": \"NAVIGO JOUR\"}, {\"name\": \"AUTRE TITRE\", \"count\": 69739, \"state\": \"displayed\", \"path\": \"AUTRE TITRE\"}]}]}'\n"
     ]
    }
   ],
   "source": [
    "## producer.py\n",
    "from kafka import KafkaProducer\n",
    "import numpy as np\n",
    "import time\n",
    "import requests\n",
    "\n",
    "p = KafkaProducer(bootstrap_servers=['kafka:9093'])\n",
    "\n",
    "bol = True\n",
    "while bol == True:\n",
    "    time.sleep(1)\n",
    "    for query in data_to_search:\n",
    "        data = requests.get(query[\"url\"]).content\n",
    "        print(query)\n",
    "        print(data)\n",
    "        \n",
    "        p.send(query[\"dataset_name\"], data)\n",
    "    bol = False\n"
   ]
  },
  {
   "cell_type": "code",
   "execution_count": null,
   "id": "678a65de-87b8-415e-a3d8-3f0e1be4877f",
   "metadata": {},
   "outputs": [],
   "source": []
  }
 ],
 "metadata": {
  "kernelspec": {
   "display_name": "Python 3 (ipykernel)",
   "language": "python",
   "name": "python3"
  },
  "language_info": {
   "codemirror_mode": {
    "name": "ipython",
    "version": 3
   },
   "file_extension": ".py",
   "mimetype": "text/x-python",
   "name": "python",
   "nbconvert_exporter": "python",
   "pygments_lexer": "ipython3",
   "version": "3.10.8"
  }
 },
 "nbformat": 4,
 "nbformat_minor": 5
}
