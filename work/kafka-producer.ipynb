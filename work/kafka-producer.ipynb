{
 "cells": [
  {
   "cell_type": "code",
   "execution_count": 1,
   "id": "b74d1585-c29a-4941-aa3c-ee1f5e40eacb",
   "metadata": {},
   "outputs": [
    {
     "name": "stdout",
     "output_type": "stream",
     "text": [
      "Requirement already satisfied: kafka-python in /opt/conda/lib/python3.10/site-packages (2.0.2)\n"
     ]
    }
   ],
   "source": [
    "!pip install kafka-python"
   ]
  },
  {
   "cell_type": "code",
   "execution_count": null,
   "id": "cfbcb102-5107-471a-8839-795500e36538",
   "metadata": {},
   "outputs": [],
   "source": [
    "## producer.py\n",
    "from kafka import KafkaProducer\n",
    "import json\n",
    "import numpy as np\n",
    "import time\n",
    "import requests\n",
    "\n",
    "p = KafkaProducer(bootstrap_servers=['kafka:9093'])\n",
    "topic = \"topic_SNCF\"\n",
    "\n",
    "url = \"https://ressources.data.sncf.com/api/records/1.0/search/?dataset=\"\n",
    "dataset_name = \"ponctualite-mensuelle-transilien\"\n",
    "param = {\n",
    "    \"rows\" : \"-1\",\n",
    "    \"sort\" : \"date\",\n",
    "    \"facet\": []\n",
    "    \n",
    "}\n",
    "query = url + dataset_name + \"&q=&\" + param\n",
    "\n",
    "while True:\n",
    "    time.sleep(10)\n",
    "    messageAPI = requests.get(query)\n",
    "    print(messageAPI.content)\n",
    "    result = p.send(topic, messageAPI.content)"
   ]
  },
  {
   "cell_type": "code",
   "execution_count": null,
   "id": "678a65de-87b8-415e-a3d8-3f0e1be4877f",
   "metadata": {},
   "outputs": [],
   "source": []
  }
 ],
 "metadata": {
  "kernelspec": {
   "display_name": "Python 3 (ipykernel)",
   "language": "python",
   "name": "python3"
  },
  "language_info": {
   "codemirror_mode": {
    "name": "ipython",
    "version": 3
   },
   "file_extension": ".py",
   "mimetype": "text/x-python",
   "name": "python",
   "nbconvert_exporter": "python",
   "pygments_lexer": "ipython3",
   "version": "3.10.8"
  }
 },
 "nbformat": 4,
 "nbformat_minor": 5
}
